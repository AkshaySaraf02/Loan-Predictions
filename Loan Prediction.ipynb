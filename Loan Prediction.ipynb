{
 "cells": [
  {
   "cell_type": "markdown",
   "id": "f892fc3d",
   "metadata": {},
   "source": [
    "# Importing Libraries\n",
    "\n"
   ]
  },
  {
   "cell_type": "code",
   "execution_count": 171,
   "id": "1c93c0a4",
   "metadata": {},
   "outputs": [],
   "source": [
    "import pandas as pd\n",
    "import numpy as np\n",
    "\n",
    "import matplotlib.pyplot as plt\n",
    "import seaborn as sns\n",
    "\n",
    "from sklearn.model_selection import train_test_split, GridSearchCV\n",
    "from sklearn.ensemble import RandomForestClassifier\n",
    "from sklearn.linear_model import LogisticRegression\n",
    "from sklearn.metrics import classification_report, confusion_matrix\n",
    "\n",
    "import warnings\n",
    "warnings.filterwarnings(\"ignore\")\n"
   ]
  },
  {
   "cell_type": "markdown",
   "id": "9c3e5346",
   "metadata": {},
   "source": [
    "# Loading the Dataset"
   ]
  },
  {
   "cell_type": "code",
   "execution_count": 2,
   "id": "23233fec",
   "metadata": {},
   "outputs": [
    {
     "data": {
      "text/html": [
       "<div>\n",
       "<style scoped>\n",
       "    .dataframe tbody tr th:only-of-type {\n",
       "        vertical-align: middle;\n",
       "    }\n",
       "\n",
       "    .dataframe tbody tr th {\n",
       "        vertical-align: top;\n",
       "    }\n",
       "\n",
       "    .dataframe thead th {\n",
       "        text-align: right;\n",
       "    }\n",
       "</style>\n",
       "<table border=\"1\" class=\"dataframe\">\n",
       "  <thead>\n",
       "    <tr style=\"text-align: right;\">\n",
       "      <th></th>\n",
       "      <th>Loan_ID</th>\n",
       "      <th>Gender</th>\n",
       "      <th>Married</th>\n",
       "      <th>Dependents</th>\n",
       "      <th>Education</th>\n",
       "      <th>Self_Employed</th>\n",
       "      <th>ApplicantIncome</th>\n",
       "      <th>CoapplicantIncome</th>\n",
       "      <th>LoanAmount</th>\n",
       "      <th>Loan_Amount_Term</th>\n",
       "      <th>Credit_History</th>\n",
       "      <th>Property_Area</th>\n",
       "      <th>Loan_Status</th>\n",
       "    </tr>\n",
       "  </thead>\n",
       "  <tbody>\n",
       "    <tr>\n",
       "      <th>0</th>\n",
       "      <td>LP001002</td>\n",
       "      <td>Male</td>\n",
       "      <td>No</td>\n",
       "      <td>0</td>\n",
       "      <td>Graduate</td>\n",
       "      <td>No</td>\n",
       "      <td>5849</td>\n",
       "      <td>0.0</td>\n",
       "      <td>NaN</td>\n",
       "      <td>360.0</td>\n",
       "      <td>1.0</td>\n",
       "      <td>Urban</td>\n",
       "      <td>Y</td>\n",
       "    </tr>\n",
       "    <tr>\n",
       "      <th>1</th>\n",
       "      <td>LP001003</td>\n",
       "      <td>Male</td>\n",
       "      <td>Yes</td>\n",
       "      <td>1</td>\n",
       "      <td>Graduate</td>\n",
       "      <td>No</td>\n",
       "      <td>4583</td>\n",
       "      <td>1508.0</td>\n",
       "      <td>128.0</td>\n",
       "      <td>360.0</td>\n",
       "      <td>1.0</td>\n",
       "      <td>Rural</td>\n",
       "      <td>N</td>\n",
       "    </tr>\n",
       "    <tr>\n",
       "      <th>2</th>\n",
       "      <td>LP001005</td>\n",
       "      <td>Male</td>\n",
       "      <td>Yes</td>\n",
       "      <td>0</td>\n",
       "      <td>Graduate</td>\n",
       "      <td>Yes</td>\n",
       "      <td>3000</td>\n",
       "      <td>0.0</td>\n",
       "      <td>66.0</td>\n",
       "      <td>360.0</td>\n",
       "      <td>1.0</td>\n",
       "      <td>Urban</td>\n",
       "      <td>Y</td>\n",
       "    </tr>\n",
       "    <tr>\n",
       "      <th>3</th>\n",
       "      <td>LP001006</td>\n",
       "      <td>Male</td>\n",
       "      <td>Yes</td>\n",
       "      <td>0</td>\n",
       "      <td>Not Graduate</td>\n",
       "      <td>No</td>\n",
       "      <td>2583</td>\n",
       "      <td>2358.0</td>\n",
       "      <td>120.0</td>\n",
       "      <td>360.0</td>\n",
       "      <td>1.0</td>\n",
       "      <td>Urban</td>\n",
       "      <td>Y</td>\n",
       "    </tr>\n",
       "    <tr>\n",
       "      <th>4</th>\n",
       "      <td>LP001008</td>\n",
       "      <td>Male</td>\n",
       "      <td>No</td>\n",
       "      <td>0</td>\n",
       "      <td>Graduate</td>\n",
       "      <td>No</td>\n",
       "      <td>6000</td>\n",
       "      <td>0.0</td>\n",
       "      <td>141.0</td>\n",
       "      <td>360.0</td>\n",
       "      <td>1.0</td>\n",
       "      <td>Urban</td>\n",
       "      <td>Y</td>\n",
       "    </tr>\n",
       "    <tr>\n",
       "      <th>...</th>\n",
       "      <td>...</td>\n",
       "      <td>...</td>\n",
       "      <td>...</td>\n",
       "      <td>...</td>\n",
       "      <td>...</td>\n",
       "      <td>...</td>\n",
       "      <td>...</td>\n",
       "      <td>...</td>\n",
       "      <td>...</td>\n",
       "      <td>...</td>\n",
       "      <td>...</td>\n",
       "      <td>...</td>\n",
       "      <td>...</td>\n",
       "    </tr>\n",
       "    <tr>\n",
       "      <th>609</th>\n",
       "      <td>LP002978</td>\n",
       "      <td>Female</td>\n",
       "      <td>No</td>\n",
       "      <td>0</td>\n",
       "      <td>Graduate</td>\n",
       "      <td>No</td>\n",
       "      <td>2900</td>\n",
       "      <td>0.0</td>\n",
       "      <td>71.0</td>\n",
       "      <td>360.0</td>\n",
       "      <td>1.0</td>\n",
       "      <td>Rural</td>\n",
       "      <td>Y</td>\n",
       "    </tr>\n",
       "    <tr>\n",
       "      <th>610</th>\n",
       "      <td>LP002979</td>\n",
       "      <td>Male</td>\n",
       "      <td>Yes</td>\n",
       "      <td>3+</td>\n",
       "      <td>Graduate</td>\n",
       "      <td>No</td>\n",
       "      <td>4106</td>\n",
       "      <td>0.0</td>\n",
       "      <td>40.0</td>\n",
       "      <td>180.0</td>\n",
       "      <td>1.0</td>\n",
       "      <td>Rural</td>\n",
       "      <td>Y</td>\n",
       "    </tr>\n",
       "    <tr>\n",
       "      <th>611</th>\n",
       "      <td>LP002983</td>\n",
       "      <td>Male</td>\n",
       "      <td>Yes</td>\n",
       "      <td>1</td>\n",
       "      <td>Graduate</td>\n",
       "      <td>No</td>\n",
       "      <td>8072</td>\n",
       "      <td>240.0</td>\n",
       "      <td>253.0</td>\n",
       "      <td>360.0</td>\n",
       "      <td>1.0</td>\n",
       "      <td>Urban</td>\n",
       "      <td>Y</td>\n",
       "    </tr>\n",
       "    <tr>\n",
       "      <th>612</th>\n",
       "      <td>LP002984</td>\n",
       "      <td>Male</td>\n",
       "      <td>Yes</td>\n",
       "      <td>2</td>\n",
       "      <td>Graduate</td>\n",
       "      <td>No</td>\n",
       "      <td>7583</td>\n",
       "      <td>0.0</td>\n",
       "      <td>187.0</td>\n",
       "      <td>360.0</td>\n",
       "      <td>1.0</td>\n",
       "      <td>Urban</td>\n",
       "      <td>Y</td>\n",
       "    </tr>\n",
       "    <tr>\n",
       "      <th>613</th>\n",
       "      <td>LP002990</td>\n",
       "      <td>Female</td>\n",
       "      <td>No</td>\n",
       "      <td>0</td>\n",
       "      <td>Graduate</td>\n",
       "      <td>Yes</td>\n",
       "      <td>4583</td>\n",
       "      <td>0.0</td>\n",
       "      <td>133.0</td>\n",
       "      <td>360.0</td>\n",
       "      <td>0.0</td>\n",
       "      <td>Semiurban</td>\n",
       "      <td>N</td>\n",
       "    </tr>\n",
       "  </tbody>\n",
       "</table>\n",
       "<p>614 rows × 13 columns</p>\n",
       "</div>"
      ],
      "text/plain": [
       "      Loan_ID  Gender Married Dependents     Education Self_Employed  \\\n",
       "0    LP001002    Male      No          0      Graduate            No   \n",
       "1    LP001003    Male     Yes          1      Graduate            No   \n",
       "2    LP001005    Male     Yes          0      Graduate           Yes   \n",
       "3    LP001006    Male     Yes          0  Not Graduate            No   \n",
       "4    LP001008    Male      No          0      Graduate            No   \n",
       "..        ...     ...     ...        ...           ...           ...   \n",
       "609  LP002978  Female      No          0      Graduate            No   \n",
       "610  LP002979    Male     Yes         3+      Graduate            No   \n",
       "611  LP002983    Male     Yes          1      Graduate            No   \n",
       "612  LP002984    Male     Yes          2      Graduate            No   \n",
       "613  LP002990  Female      No          0      Graduate           Yes   \n",
       "\n",
       "     ApplicantIncome  CoapplicantIncome  LoanAmount  Loan_Amount_Term  \\\n",
       "0               5849                0.0         NaN             360.0   \n",
       "1               4583             1508.0       128.0             360.0   \n",
       "2               3000                0.0        66.0             360.0   \n",
       "3               2583             2358.0       120.0             360.0   \n",
       "4               6000                0.0       141.0             360.0   \n",
       "..               ...                ...         ...               ...   \n",
       "609             2900                0.0        71.0             360.0   \n",
       "610             4106                0.0        40.0             180.0   \n",
       "611             8072              240.0       253.0             360.0   \n",
       "612             7583                0.0       187.0             360.0   \n",
       "613             4583                0.0       133.0             360.0   \n",
       "\n",
       "     Credit_History Property_Area Loan_Status  \n",
       "0               1.0         Urban           Y  \n",
       "1               1.0         Rural           N  \n",
       "2               1.0         Urban           Y  \n",
       "3               1.0         Urban           Y  \n",
       "4               1.0         Urban           Y  \n",
       "..              ...           ...         ...  \n",
       "609             1.0         Rural           Y  \n",
       "610             1.0         Rural           Y  \n",
       "611             1.0         Urban           Y  \n",
       "612             1.0         Urban           Y  \n",
       "613             0.0     Semiurban           N  \n",
       "\n",
       "[614 rows x 13 columns]"
      ]
     },
     "execution_count": 2,
     "metadata": {},
     "output_type": "execute_result"
    }
   ],
   "source": [
    "df = pd.read_csv(\"train_u6lujuX_CVtuZ9i.csv\")\n",
    "df"
   ]
  },
  {
   "cell_type": "markdown",
   "id": "89eec8d6",
   "metadata": {},
   "source": [
    "## Basic Data Info\n"
   ]
  },
  {
   "cell_type": "code",
   "execution_count": 3,
   "id": "f29d8612",
   "metadata": {},
   "outputs": [
    {
     "name": "stdout",
     "output_type": "stream",
     "text": [
      "<class 'pandas.core.frame.DataFrame'>\n",
      "RangeIndex: 614 entries, 0 to 613\n",
      "Data columns (total 13 columns):\n",
      " #   Column             Non-Null Count  Dtype  \n",
      "---  ------             --------------  -----  \n",
      " 0   Loan_ID            614 non-null    object \n",
      " 1   Gender             601 non-null    object \n",
      " 2   Married            611 non-null    object \n",
      " 3   Dependents         599 non-null    object \n",
      " 4   Education          614 non-null    object \n",
      " 5   Self_Employed      582 non-null    object \n",
      " 6   ApplicantIncome    614 non-null    int64  \n",
      " 7   CoapplicantIncome  614 non-null    float64\n",
      " 8   LoanAmount         592 non-null    float64\n",
      " 9   Loan_Amount_Term   600 non-null    float64\n",
      " 10  Credit_History     564 non-null    float64\n",
      " 11  Property_Area      614 non-null    object \n",
      " 12  Loan_Status        614 non-null    object \n",
      "dtypes: float64(4), int64(1), object(8)\n",
      "memory usage: 62.5+ KB\n"
     ]
    }
   ],
   "source": [
    "df.info()"
   ]
  },
  {
   "cell_type": "code",
   "execution_count": 4,
   "id": "78337ba3",
   "metadata": {},
   "outputs": [
    {
     "data": {
      "text/html": [
       "<div>\n",
       "<style scoped>\n",
       "    .dataframe tbody tr th:only-of-type {\n",
       "        vertical-align: middle;\n",
       "    }\n",
       "\n",
       "    .dataframe tbody tr th {\n",
       "        vertical-align: top;\n",
       "    }\n",
       "\n",
       "    .dataframe thead th {\n",
       "        text-align: right;\n",
       "    }\n",
       "</style>\n",
       "<table border=\"1\" class=\"dataframe\">\n",
       "  <thead>\n",
       "    <tr style=\"text-align: right;\">\n",
       "      <th></th>\n",
       "      <th>ApplicantIncome</th>\n",
       "      <th>CoapplicantIncome</th>\n",
       "      <th>LoanAmount</th>\n",
       "      <th>Loan_Amount_Term</th>\n",
       "      <th>Credit_History</th>\n",
       "    </tr>\n",
       "  </thead>\n",
       "  <tbody>\n",
       "    <tr>\n",
       "      <th>count</th>\n",
       "      <td>614.000000</td>\n",
       "      <td>614.000000</td>\n",
       "      <td>592.000000</td>\n",
       "      <td>600.00000</td>\n",
       "      <td>564.000000</td>\n",
       "    </tr>\n",
       "    <tr>\n",
       "      <th>mean</th>\n",
       "      <td>5403.459283</td>\n",
       "      <td>1621.245798</td>\n",
       "      <td>146.412162</td>\n",
       "      <td>342.00000</td>\n",
       "      <td>0.842199</td>\n",
       "    </tr>\n",
       "    <tr>\n",
       "      <th>std</th>\n",
       "      <td>6109.041673</td>\n",
       "      <td>2926.248369</td>\n",
       "      <td>85.587325</td>\n",
       "      <td>65.12041</td>\n",
       "      <td>0.364878</td>\n",
       "    </tr>\n",
       "    <tr>\n",
       "      <th>min</th>\n",
       "      <td>150.000000</td>\n",
       "      <td>0.000000</td>\n",
       "      <td>9.000000</td>\n",
       "      <td>12.00000</td>\n",
       "      <td>0.000000</td>\n",
       "    </tr>\n",
       "    <tr>\n",
       "      <th>25%</th>\n",
       "      <td>2877.500000</td>\n",
       "      <td>0.000000</td>\n",
       "      <td>100.000000</td>\n",
       "      <td>360.00000</td>\n",
       "      <td>1.000000</td>\n",
       "    </tr>\n",
       "    <tr>\n",
       "      <th>50%</th>\n",
       "      <td>3812.500000</td>\n",
       "      <td>1188.500000</td>\n",
       "      <td>128.000000</td>\n",
       "      <td>360.00000</td>\n",
       "      <td>1.000000</td>\n",
       "    </tr>\n",
       "    <tr>\n",
       "      <th>75%</th>\n",
       "      <td>5795.000000</td>\n",
       "      <td>2297.250000</td>\n",
       "      <td>168.000000</td>\n",
       "      <td>360.00000</td>\n",
       "      <td>1.000000</td>\n",
       "    </tr>\n",
       "    <tr>\n",
       "      <th>max</th>\n",
       "      <td>81000.000000</td>\n",
       "      <td>41667.000000</td>\n",
       "      <td>700.000000</td>\n",
       "      <td>480.00000</td>\n",
       "      <td>1.000000</td>\n",
       "    </tr>\n",
       "  </tbody>\n",
       "</table>\n",
       "</div>"
      ],
      "text/plain": [
       "       ApplicantIncome  CoapplicantIncome  LoanAmount  Loan_Amount_Term  \\\n",
       "count       614.000000         614.000000  592.000000         600.00000   \n",
       "mean       5403.459283        1621.245798  146.412162         342.00000   \n",
       "std        6109.041673        2926.248369   85.587325          65.12041   \n",
       "min         150.000000           0.000000    9.000000          12.00000   \n",
       "25%        2877.500000           0.000000  100.000000         360.00000   \n",
       "50%        3812.500000        1188.500000  128.000000         360.00000   \n",
       "75%        5795.000000        2297.250000  168.000000         360.00000   \n",
       "max       81000.000000       41667.000000  700.000000         480.00000   \n",
       "\n",
       "       Credit_History  \n",
       "count      564.000000  \n",
       "mean         0.842199  \n",
       "std          0.364878  \n",
       "min          0.000000  \n",
       "25%          1.000000  \n",
       "50%          1.000000  \n",
       "75%          1.000000  \n",
       "max          1.000000  "
      ]
     },
     "execution_count": 4,
     "metadata": {},
     "output_type": "execute_result"
    }
   ],
   "source": [
    "df.describe()"
   ]
  },
  {
   "cell_type": "markdown",
   "id": "54748088",
   "metadata": {},
   "source": [
    "# Exploratory Data Analysis"
   ]
  },
  {
   "cell_type": "markdown",
   "id": "d670831b",
   "metadata": {},
   "source": [
    "## Data Cleaning"
   ]
  },
  {
   "cell_type": "code",
   "execution_count": 5,
   "id": "9d8e956b",
   "metadata": {},
   "outputs": [],
   "source": [
    "# Loan ID is of no use so we will drop the column\n",
    "df.drop(\"Loan_ID\", axis=1, inplace=True) "
   ]
  },
  {
   "cell_type": "markdown",
   "id": "f479b98e",
   "metadata": {},
   "source": [
    "### Understanding null values in the dataset"
   ]
  },
  {
   "cell_type": "code",
   "execution_count": 6,
   "id": "ff49ecf1",
   "metadata": {},
   "outputs": [
    {
     "data": {
      "text/plain": [
       "<AxesSubplot:>"
      ]
     },
     "execution_count": 6,
     "metadata": {},
     "output_type": "execute_result"
    },
    {
     "data": {
      "image/png": "[encoded data removed]",
      "text/plain": [
       "<Figure size 432x288 with 2 Axes>"
      ]
     },
     "metadata": {
      "needs_background": "light"
     },
     "output_type": "display_data"
    }
   ],
   "source": [
    "sns.heatmap(df.isnull())"
   ]
  },
  {
   "cell_type": "code",
   "execution_count": 7,
   "id": "b07d5572",
   "metadata": {},
   "outputs": [
    {
     "data": {
      "text/plain": [
       "Gender               13\n",
       "Married               3\n",
       "Dependents           15\n",
       "Education             0\n",
       "Self_Employed        32\n",
       "ApplicantIncome       0\n",
       "CoapplicantIncome     0\n",
       "LoanAmount           22\n",
       "Loan_Amount_Term     14\n",
       "Credit_History       50\n",
       "Property_Area         0\n",
       "Loan_Status           0\n",
       "dtype: int64"
      ]
     },
     "execution_count": 7,
     "metadata": {},
     "output_type": "execute_result"
    }
   ],
   "source": [
    "df.isnull().sum()"
   ]
  },
  {
   "cell_type": "markdown",
   "id": "9c48ee4b",
   "metadata": {},
   "source": [
    "### Info about Education Column"
   ]
  },
  {
   "cell_type": "code",
   "execution_count": 8,
   "id": "ae00b97e",
   "metadata": {},
   "outputs": [
    {
     "data": {
      "text/plain": [
       "<AxesSubplot:ylabel='Education'>"
      ]
     },
     "execution_count": 8,
     "metadata": {},
     "output_type": "execute_result"
    },
    {
     "data": {
      "image/png": "[encoded data removed]",
      "text/plain": [
       "<Figure size 432x288 with 1 Axes>"
      ]
     },
     "metadata": {
      "needs_background": "light"
     },
     "output_type": "display_data"
    }
   ],
   "source": [
    "df.groupby(\"Education\")[\"Education\"].count().plot(kind=\"barh\")"
   ]
  },
  {
   "cell_type": "code",
   "execution_count": 9,
   "id": "f19fa80a",
   "metadata": {},
   "outputs": [
    {
     "data": {
      "text/plain": [
       "<AxesSubplot:xlabel='Loan_Status', ylabel='LoanAmount'>"
      ]
     },
     "execution_count": 9,
     "metadata": {},
     "output_type": "execute_result"
    },
    {
     "data": {
      "image/png": "[encoded data removed]",
      "text/plain": [
       "<Figure size 432x288 with 1 Axes>"
      ]
     },
     "metadata": {
      "needs_background": "light"
     },
     "output_type": "display_data"
    }
   ],
   "source": [
    "sns.barplot(df[\"Loan_Status\"], df[\"LoanAmount\"], hue=df[\"Education\"])"
   ]
  },
  {
   "cell_type": "code",
   "execution_count": 10,
   "id": "ec0eccad",
   "metadata": {},
   "outputs": [],
   "source": [
    "# There is no significant difference in the data of Education Column so it is better to drop it.\n",
    "df.drop(\"Education\", axis=1, inplace=True)\n"
   ]
  },
  {
   "cell_type": "markdown",
   "id": "f2142b73",
   "metadata": {},
   "source": [
    "### Info about Self Employed Column"
   ]
  },
  {
   "cell_type": "code",
   "execution_count": 11,
   "id": "28bbf73b",
   "metadata": {},
   "outputs": [
    {
     "data": {
      "text/plain": [
       "No     500\n",
       "Yes     82\n",
       "Name: Self_Employed, dtype: int64"
      ]
     },
     "execution_count": 11,
     "metadata": {},
     "output_type": "execute_result"
    }
   ],
   "source": [
    "df[\"Self_Employed\"].value_counts()"
   ]
  },
  {
   "cell_type": "code",
   "execution_count": 12,
   "id": "0175a87a",
   "metadata": {},
   "outputs": [
    {
     "data": {
      "text/plain": [
       "<AxesSubplot:xlabel='Loan_Status', ylabel='LoanAmount'>"
      ]
     },
     "execution_count": 12,
     "metadata": {},
     "output_type": "execute_result"
    },
    {
     "data": {
      "image/png": "[encoded data removed]",
      "text/plain": [
       "<Figure size 432x288 with 1 Axes>"
      ]
     },
     "metadata": {
      "needs_background": "light"
     },
     "output_type": "display_data"
    }
   ],
   "source": [
    "sns.barplot(df[\"Loan_Status\"], df[\"LoanAmount\"], hue=df[\"Self_Employed\"])"
   ]
  },
  {
   "cell_type": "code",
   "execution_count": 20,
   "id": "2210c3e3",
   "metadata": {},
   "outputs": [],
   "source": [
    "# Function to impute values into null values of Self Employed column.\n",
    "def impute_self_emp(cols):\n",
    "    self_emp = cols[0]\n",
    "    loan_stat = cols[1]\n",
    "    \n",
    "    if pd.isnull(self_emp):\n",
    "        if loan_stat == \"Y\":\n",
    "            return \"Yes\"\n",
    "        else:\n",
    "            return \"No\"\n",
    "\n",
    "    else:\n",
    "        return self_emp\n",
    "df[\"Self_Employed\"] = df[[\"Self_Employed\", \"Loan_Status\"]].apply(impute_self_emp, axis=1)\n",
    "df[\"Self_Employed\"] = pd.get_dummies(df[\"Self_Employed\"], drop_first=True)\n",
    "df[\"Self_Employed\"] = df[\"Self_Employed\"].apply(int)"
   ]
  },
  {
   "cell_type": "code",
   "execution_count": 92,
   "id": "27048409",
   "metadata": {},
   "outputs": [
    {
     "data": {
      "text/plain": [
       "<AxesSubplot:>"
      ]
     },
     "execution_count": 92,
     "metadata": {},
     "output_type": "execute_result"
    },
    {
     "data": {
      "image/png": "[encoded data removed]",
      "text/plain": [
       "<Figure size 432x288 with 1 Axes>"
      ]
     },
     "metadata": {
      "needs_background": "light"
     },
     "output_type": "display_data"
    }
   ],
   "source": [
    "df[\"Self_Employed\"].hist()"
   ]
  },
  {
   "cell_type": "markdown",
   "id": "a89b978f",
   "metadata": {},
   "source": [
    "### Info about Credit History column."
   ]
  },
  {
   "cell_type": "code",
   "execution_count": 22,
   "id": "1a2b1cbe",
   "metadata": {},
   "outputs": [
    {
     "data": {
      "text/plain": [
       "<AxesSubplot:xlabel='Loan_Status', ylabel='Credit_History'>"
      ]
     },
     "execution_count": 22,
     "metadata": {},
     "output_type": "execute_result"
    },
    {
     "data": {
      "image/png": "[encoded data removed]",
      "text/plain": [
       "<Figure size 432x288 with 1 Axes>"
      ]
     },
     "metadata": {
      "needs_background": "light"
     },
     "output_type": "display_data"
    }
   ],
   "source": [
    "sns.barplot(x=df[\"Loan_Status\"], y=df[\"Credit_History\"])"
   ]
  },
  {
   "cell_type": "code",
   "execution_count": 23,
   "id": "37695c86",
   "metadata": {},
   "outputs": [
    {
     "data": {
      "text/plain": [
       "<AxesSubplot:xlabel='Credit_History', ylabel='Loan_Status'>"
      ]
     },
     "execution_count": 23,
     "metadata": {},
     "output_type": "execute_result"
    },
    {
     "data": {
      "image/png": "[encoded data removed]",
      "text/plain": [
       "<Figure size 432x288 with 1 Axes>"
      ]
     },
     "metadata": {
      "needs_background": "light"
     },
     "output_type": "display_data"
    }
   ],
   "source": [
    "sns.barplot(df[\"Credit_History\"], df[\"Loan_Status\"])"
   ]
  },
  {
   "cell_type": "code",
   "execution_count": 24,
   "id": "9989c50b",
   "metadata": {},
   "outputs": [],
   "source": [
    "# Function to impute values into null values of Credit History column.\n",
    "def impute_cred(cols):\n",
    "    cred_hist = cols[0]\n",
    "    loan_stat = cols[1]\n",
    "    if pd.isnull(cred_hist):\n",
    "        if loan_stat == \"Y\":\n",
    "            return 1.0\n",
    "        else:\n",
    "            return 0.0\n",
    "    else:\n",
    "        return cred_hist\n",
    "df[\"Credit_History\"] = df[[\"Credit_History\", \"Loan_Status\"]].apply(impute_cred, axis=1)"
   ]
  },
  {
   "cell_type": "code",
   "execution_count": 94,
   "id": "85fcb5a2",
   "metadata": {},
   "outputs": [
    {
     "data": {
      "text/plain": [
       "<AxesSubplot:>"
      ]
     },
     "execution_count": 94,
     "metadata": {},
     "output_type": "execute_result"
    },
    {
     "data": {
      "image/png": "[encoded data removed]",
      "text/plain": [
       "<Figure size 432x288 with 1 Axes>"
      ]
     },
     "metadata": {
      "needs_background": "light"
     },
     "output_type": "display_data"
    }
   ],
   "source": [
    "df[\"Credit_History\"].hist()"
   ]
  },
  {
   "cell_type": "markdown",
   "id": "adee1f7b",
   "metadata": {},
   "source": [
    "### Getting numerical values(dummy variable) for the Target column."
   ]
  },
  {
   "cell_type": "code",
   "execution_count": 25,
   "id": "f7783fd3",
   "metadata": {},
   "outputs": [],
   "source": [
    "df[\"loan_approved\"] = pd.get_dummies(df[\"Loan_Status\"], drop_first=True)\n",
    "df.drop(\"Loan_Status\", axis=1, inplace=True)"
   ]
  },
  {
   "cell_type": "markdown",
   "id": "811d3260",
   "metadata": {},
   "source": [
    "### Filling null values of Co applicant income column."
   ]
  },
  {
   "cell_type": "code",
   "execution_count": 26,
   "id": "2888b747",
   "metadata": {},
   "outputs": [
    {
     "data": {
      "text/plain": [
       "0.0       273\n",
       "2500.0      5\n",
       "2083.0      5\n",
       "1666.0      5\n",
       "2250.0      3\n",
       "         ... \n",
       "2791.0      1\n",
       "1010.0      1\n",
       "1695.0      1\n",
       "2598.0      1\n",
       "240.0       1\n",
       "Name: CoapplicantIncome, Length: 287, dtype: int64"
      ]
     },
     "execution_count": 26,
     "metadata": {},
     "output_type": "execute_result"
    }
   ],
   "source": [
    "df[\"CoapplicantIncome\"].value_counts()"
   ]
  },
  {
   "cell_type": "code",
   "execution_count": 27,
   "id": "1b718a93",
   "metadata": {},
   "outputs": [],
   "source": [
    "df.drop(\"CoapplicantIncome\", axis=1, inplace=True)"
   ]
  },
  {
   "cell_type": "markdown",
   "id": "ef53d185",
   "metadata": {},
   "source": [
    "### Info about Property Area"
   ]
  },
  {
   "cell_type": "code",
   "execution_count": 28,
   "id": "64d8d4ef",
   "metadata": {},
   "outputs": [
    {
     "data": {
      "text/plain": [
       "<AxesSubplot:xlabel='Property_Area', ylabel='count'>"
      ]
     },
     "execution_count": 28,
     "metadata": {},
     "output_type": "execute_result"
    },
    {
     "data": {
      "image/png": "[encoded data removed]",
      "text/plain": [
       "<Figure size 432x288 with 1 Axes>"
      ]
     },
     "metadata": {
      "needs_background": "light"
     },
     "output_type": "display_data"
    }
   ],
   "source": [
    "sns.countplot(df[\"Property_Area\"])"
   ]
  },
  {
   "cell_type": "code",
   "execution_count": 29,
   "id": "fcd76529",
   "metadata": {},
   "outputs": [],
   "source": [
    "def prop_label_converter(x):\n",
    "    if x == \"Urban\":\n",
    "        return 0\n",
    "    elif x == \"Rural\":\n",
    "        return 1\n",
    "    else:\n",
    "        return 2\n",
    "df[\"Property_Area\"] = df[\"Property_Area\"].apply(prop_label_converter)\n",
    "        "
   ]
  },
  {
   "cell_type": "markdown",
   "id": "18cdf503",
   "metadata": {},
   "source": [
    "### Filling null values of Gender"
   ]
  },
  {
   "cell_type": "code",
   "execution_count": 30,
   "id": "4f5fce2d",
   "metadata": {},
   "outputs": [
    {
     "data": {
      "text/plain": [
       "Male      0.796417\n",
       "Female    0.182410\n",
       "Name: Gender, dtype: float64"
      ]
     },
     "execution_count": 30,
     "metadata": {},
     "output_type": "execute_result"
    }
   ],
   "source": [
    "df[\"Gender\"].value_counts() / df.shape[0]"
   ]
  },
  {
   "cell_type": "code",
   "execution_count": 42,
   "id": "64f747a8",
   "metadata": {},
   "outputs": [],
   "source": [
    "#  We fill the missing values with Male because approx 80% of the data is Male.\n",
    "df[\"Gender\"] = df[\"Gender\"].fillna(\"Male\")\n",
    "df[\"Gender\"] = pd.get_dummies(df[\"Gender\"], drop_first=True)\n",
    "df[\"Gender\"]  =df[\"Gender\"].apply(int)"
   ]
  },
  {
   "cell_type": "markdown",
   "id": "fa046843",
   "metadata": {},
   "source": [
    "### Filling the null values of Loan Amount with Average Loan Amount"
   ]
  },
  {
   "cell_type": "code",
   "execution_count": 32,
   "id": "53f32c0d",
   "metadata": {},
   "outputs": [],
   "source": [
    "df[\"LoanAmount\"] = df[\"LoanAmount\"].fillna(df[\"LoanAmount\"].mean())"
   ]
  },
  {
   "cell_type": "code",
   "execution_count": 96,
   "id": "0bbfe871",
   "metadata": {},
   "outputs": [
    {
     "data": {
      "text/plain": [
       "<AxesSubplot:xlabel='LoanAmount', ylabel='Count'>"
      ]
     },
     "execution_count": 96,
     "metadata": {},
     "output_type": "execute_result"
    },
    {
     "data": {
      "image/png": "[encoded data removed]",
      "text/plain": [
       "<Figure size 432x288 with 1 Axes>"
      ]
     },
     "metadata": {
      "needs_background": "light"
     },
     "output_type": "display_data"
    }
   ],
   "source": [
    "sns.histplot(df[\"LoanAmount\"])"
   ]
  },
  {
   "cell_type": "markdown",
   "id": "627d16a5",
   "metadata": {},
   "source": [
    "### Fixing the Dependents Column"
   ]
  },
  {
   "cell_type": "code",
   "execution_count": 34,
   "id": "e7a8cb37",
   "metadata": {},
   "outputs": [
    {
     "data": {
      "text/plain": [
       "array(['0', '1', '2', '3+', nan], dtype=object)"
      ]
     },
     "execution_count": 34,
     "metadata": {},
     "output_type": "execute_result"
    }
   ],
   "source": [
    "df[\"Dependents\"].unique()\n"
   ]
  },
  {
   "cell_type": "code",
   "execution_count": 35,
   "id": "19b5f36c",
   "metadata": {},
   "outputs": [
    {
     "data": {
      "text/plain": [
       "0     345\n",
       "1     102\n",
       "2     101\n",
       "3+     51\n",
       "Name: Dependents, dtype: int64"
      ]
     },
     "execution_count": 35,
     "metadata": {},
     "output_type": "execute_result"
    }
   ],
   "source": [
    "df[\"Dependents\"].value_counts()"
   ]
  },
  {
   "cell_type": "code",
   "execution_count": 36,
   "id": "98d7a4f7",
   "metadata": {},
   "outputs": [],
   "source": [
    "# Filling null values and changing the datatype of the column\n",
    "def imputer_dep(x):\n",
    "    if x == \"3+\":\n",
    "        return \"3\"\n",
    "    if pd.isnull(x):\n",
    "        return \"0\"\n",
    "    else:\n",
    "        return x\n",
    "\n",
    "df[\"Dependents\"] = df[\"Dependents\"].apply(imputer_dep)\n",
    "df[\"Dependents\"] = df[\"Dependents\"].apply(int)"
   ]
  },
  {
   "cell_type": "markdown",
   "id": "772d4722",
   "metadata": {},
   "source": [
    "### Filling the null values of the Loan Amount Term column with it's average"
   ]
  },
  {
   "cell_type": "code",
   "execution_count": 37,
   "id": "e12333c1",
   "metadata": {},
   "outputs": [
    {
     "data": {
      "text/plain": [
       "360.0    512\n",
       "180.0     44\n",
       "480.0     15\n",
       "300.0     13\n",
       "240.0      4\n",
       "84.0       4\n",
       "120.0      3\n",
       "60.0       2\n",
       "36.0       2\n",
       "12.0       1\n",
       "Name: Loan_Amount_Term, dtype: int64"
      ]
     },
     "execution_count": 37,
     "metadata": {},
     "output_type": "execute_result"
    }
   ],
   "source": [
    "df[\"Loan_Amount_Term\"].value_counts()"
   ]
  },
  {
   "cell_type": "code",
   "execution_count": 38,
   "id": "d1a7aece",
   "metadata": {},
   "outputs": [],
   "source": [
    "df[\"Loan_Amount_Term\"] = df[\"Loan_Amount_Term\"].fillna(df[\"Loan_Amount_Term\"].mean())"
   ]
  },
  {
   "cell_type": "markdown",
   "id": "26084b74",
   "metadata": {},
   "source": [
    "### The following null values are present in married column, i.e 3 values, so we will drop it"
   ]
  },
  {
   "cell_type": "code",
   "execution_count": 44,
   "id": "58d42e33",
   "metadata": {},
   "outputs": [],
   "source": [
    "df.dropna(inplace=True)\n",
    "df[\"Married\"] = df[\"Married\"].apply(lambda x: 1 if x == \"Yes\" else 0)"
   ]
  },
  {
   "cell_type": "markdown",
   "id": "10612006",
   "metadata": {},
   "source": [
    "### Now, we see that our data is entirely clean, now we can proceed to fitting our model."
   ]
  },
  {
   "cell_type": "code",
   "execution_count": 40,
   "id": "a3b27f46",
   "metadata": {},
   "outputs": [
    {
     "data": {
      "text/plain": [
       "Gender              0\n",
       "Married             0\n",
       "Dependents          0\n",
       "Self_Employed       0\n",
       "ApplicantIncome     0\n",
       "LoanAmount          0\n",
       "Loan_Amount_Term    0\n",
       "Credit_History      0\n",
       "Property_Area       0\n",
       "loan_approved       0\n",
       "dtype: int64"
      ]
     },
     "execution_count": 40,
     "metadata": {},
     "output_type": "execute_result"
    }
   ],
   "source": [
    "df.isnull().sum()"
   ]
  },
  {
   "cell_type": "code",
   "execution_count": 98,
   "id": "a61763f5",
   "metadata": {},
   "outputs": [
    {
     "data": {
      "text/html": [
       "<div>\n",
       "<style scoped>\n",
       "    .dataframe tbody tr th:only-of-type {\n",
       "        vertical-align: middle;\n",
       "    }\n",
       "\n",
       "    .dataframe tbody tr th {\n",
       "        vertical-align: top;\n",
       "    }\n",
       "\n",
       "    .dataframe thead th {\n",
       "        text-align: right;\n",
       "    }\n",
       "</style>\n",
       "<table border=\"1\" class=\"dataframe\">\n",
       "  <thead>\n",
       "    <tr style=\"text-align: right;\">\n",
       "      <th></th>\n",
       "      <th>Gender</th>\n",
       "      <th>Married</th>\n",
       "      <th>Dependents</th>\n",
       "      <th>Self_Employed</th>\n",
       "      <th>ApplicantIncome</th>\n",
       "      <th>LoanAmount</th>\n",
       "      <th>Loan_Amount_Term</th>\n",
       "      <th>Credit_History</th>\n",
       "      <th>Property_Area</th>\n",
       "      <th>loan_approved</th>\n",
       "    </tr>\n",
       "  </thead>\n",
       "  <tbody>\n",
       "    <tr>\n",
       "      <th>0</th>\n",
       "      <td>1</td>\n",
       "      <td>0</td>\n",
       "      <td>0</td>\n",
       "      <td>0</td>\n",
       "      <td>5849</td>\n",
       "      <td>146.412162</td>\n",
       "      <td>360.0</td>\n",
       "      <td>1.0</td>\n",
       "      <td>0</td>\n",
       "      <td>1</td>\n",
       "    </tr>\n",
       "    <tr>\n",
       "      <th>1</th>\n",
       "      <td>1</td>\n",
       "      <td>1</td>\n",
       "      <td>1</td>\n",
       "      <td>0</td>\n",
       "      <td>4583</td>\n",
       "      <td>128.000000</td>\n",
       "      <td>360.0</td>\n",
       "      <td>1.0</td>\n",
       "      <td>1</td>\n",
       "      <td>0</td>\n",
       "    </tr>\n",
       "    <tr>\n",
       "      <th>2</th>\n",
       "      <td>1</td>\n",
       "      <td>1</td>\n",
       "      <td>0</td>\n",
       "      <td>1</td>\n",
       "      <td>3000</td>\n",
       "      <td>66.000000</td>\n",
       "      <td>360.0</td>\n",
       "      <td>1.0</td>\n",
       "      <td>0</td>\n",
       "      <td>1</td>\n",
       "    </tr>\n",
       "    <tr>\n",
       "      <th>3</th>\n",
       "      <td>1</td>\n",
       "      <td>1</td>\n",
       "      <td>0</td>\n",
       "      <td>0</td>\n",
       "      <td>2583</td>\n",
       "      <td>120.000000</td>\n",
       "      <td>360.0</td>\n",
       "      <td>1.0</td>\n",
       "      <td>0</td>\n",
       "      <td>1</td>\n",
       "    </tr>\n",
       "    <tr>\n",
       "      <th>4</th>\n",
       "      <td>1</td>\n",
       "      <td>0</td>\n",
       "      <td>0</td>\n",
       "      <td>0</td>\n",
       "      <td>6000</td>\n",
       "      <td>141.000000</td>\n",
       "      <td>360.0</td>\n",
       "      <td>1.0</td>\n",
       "      <td>0</td>\n",
       "      <td>1</td>\n",
       "    </tr>\n",
       "    <tr>\n",
       "      <th>...</th>\n",
       "      <td>...</td>\n",
       "      <td>...</td>\n",
       "      <td>...</td>\n",
       "      <td>...</td>\n",
       "      <td>...</td>\n",
       "      <td>...</td>\n",
       "      <td>...</td>\n",
       "      <td>...</td>\n",
       "      <td>...</td>\n",
       "      <td>...</td>\n",
       "    </tr>\n",
       "    <tr>\n",
       "      <th>609</th>\n",
       "      <td>0</td>\n",
       "      <td>0</td>\n",
       "      <td>0</td>\n",
       "      <td>0</td>\n",
       "      <td>2900</td>\n",
       "      <td>71.000000</td>\n",
       "      <td>360.0</td>\n",
       "      <td>1.0</td>\n",
       "      <td>1</td>\n",
       "      <td>1</td>\n",
       "    </tr>\n",
       "    <tr>\n",
       "      <th>610</th>\n",
       "      <td>1</td>\n",
       "      <td>1</td>\n",
       "      <td>3</td>\n",
       "      <td>0</td>\n",
       "      <td>4106</td>\n",
       "      <td>40.000000</td>\n",
       "      <td>180.0</td>\n",
       "      <td>1.0</td>\n",
       "      <td>1</td>\n",
       "      <td>1</td>\n",
       "    </tr>\n",
       "    <tr>\n",
       "      <th>611</th>\n",
       "      <td>1</td>\n",
       "      <td>1</td>\n",
       "      <td>1</td>\n",
       "      <td>0</td>\n",
       "      <td>8072</td>\n",
       "      <td>253.000000</td>\n",
       "      <td>360.0</td>\n",
       "      <td>1.0</td>\n",
       "      <td>0</td>\n",
       "      <td>1</td>\n",
       "    </tr>\n",
       "    <tr>\n",
       "      <th>612</th>\n",
       "      <td>1</td>\n",
       "      <td>1</td>\n",
       "      <td>2</td>\n",
       "      <td>0</td>\n",
       "      <td>7583</td>\n",
       "      <td>187.000000</td>\n",
       "      <td>360.0</td>\n",
       "      <td>1.0</td>\n",
       "      <td>0</td>\n",
       "      <td>1</td>\n",
       "    </tr>\n",
       "    <tr>\n",
       "      <th>613</th>\n",
       "      <td>0</td>\n",
       "      <td>0</td>\n",
       "      <td>0</td>\n",
       "      <td>1</td>\n",
       "      <td>4583</td>\n",
       "      <td>133.000000</td>\n",
       "      <td>360.0</td>\n",
       "      <td>0.0</td>\n",
       "      <td>2</td>\n",
       "      <td>0</td>\n",
       "    </tr>\n",
       "  </tbody>\n",
       "</table>\n",
       "<p>611 rows × 10 columns</p>\n",
       "</div>"
      ],
      "text/plain": [
       "     Gender  Married  Dependents  Self_Employed  ApplicantIncome  LoanAmount  \\\n",
       "0         1        0           0              0             5849  146.412162   \n",
       "1         1        1           1              0             4583  128.000000   \n",
       "2         1        1           0              1             3000   66.000000   \n",
       "3         1        1           0              0             2583  120.000000   \n",
       "4         1        0           0              0             6000  141.000000   \n",
       "..      ...      ...         ...            ...              ...         ...   \n",
       "609       0        0           0              0             2900   71.000000   \n",
       "610       1        1           3              0             4106   40.000000   \n",
       "611       1        1           1              0             8072  253.000000   \n",
       "612       1        1           2              0             7583  187.000000   \n",
       "613       0        0           0              1             4583  133.000000   \n",
       "\n",
       "     Loan_Amount_Term  Credit_History  Property_Area  loan_approved  \n",
       "0               360.0             1.0              0              1  \n",
       "1               360.0             1.0              1              0  \n",
       "2               360.0             1.0              0              1  \n",
       "3               360.0             1.0              0              1  \n",
       "4               360.0             1.0              0              1  \n",
       "..                ...             ...            ...            ...  \n",
       "609             360.0             1.0              1              1  \n",
       "610             180.0             1.0              1              1  \n",
       "611             360.0             1.0              0              1  \n",
       "612             360.0             1.0              0              1  \n",
       "613             360.0             0.0              2              0  \n",
       "\n",
       "[611 rows x 10 columns]"
      ]
     },
     "execution_count": 98,
     "metadata": {},
     "output_type": "execute_result"
    }
   ],
   "source": [
    "df"
   ]
  },
  {
   "cell_type": "code",
   "execution_count": 101,
   "id": "e71e5224",
   "metadata": {},
   "outputs": [
    {
     "data": {
      "text/plain": [
       "<seaborn.axisgrid.JointGrid at 0x23e768e0>"
      ]
     },
     "execution_count": 101,
     "metadata": {},
     "output_type": "execute_result"
    },
    {
     "data": {
      "image/png": "[encoded data removed]",
      "text/plain": [
       "<Figure size 432x432 with 3 Axes>"
      ]
     },
     "metadata": {
      "needs_background": "light"
     },
     "output_type": "display_data"
    }
   ],
   "source": [
    "sns.jointplot(df[\"LoanAmount\"], df[\"ApplicantIncome\"], hue=df[\"loan_approved\"])"
   ]
  },
  {
   "cell_type": "code",
   "execution_count": 121,
   "id": "0f5a6454",
   "metadata": {},
   "outputs": [
    {
     "data": {
      "text/plain": [
       "128.0"
      ]
     },
     "execution_count": 121,
     "metadata": {},
     "output_type": "execute_result"
    }
   ],
   "source": [
    "df['LoanAmount'].median()"
   ]
  },
  {
   "cell_type": "code",
   "execution_count": 136,
   "id": "120f1089",
   "metadata": {},
   "outputs": [
    {
     "data": {
      "text/plain": [
       "341.911620294599"
      ]
     },
     "execution_count": 136,
     "metadata": {},
     "output_type": "execute_result"
    }
   ],
   "source": [
    "df[\"Loan_Amount_Term\"].mean()"
   ]
  },
  {
   "cell_type": "code",
   "execution_count": 138,
   "id": "6e5c89bc",
   "metadata": {},
   "outputs": [
    {
     "data": {
      "text/plain": [
       "280"
      ]
     },
     "execution_count": 138,
     "metadata": {},
     "output_type": "execute_result"
    }
   ],
   "source": [
    "\n",
    "df[(df[\"LoanAmount\"] > 128) & (df[\"Loan_Amount_Term\"] > 180)].count()[\"loan_approved\"]"
   ]
  },
  {
   "cell_type": "code",
   "execution_count": 141,
   "id": "abeaccc8",
   "metadata": {},
   "outputs": [
    {
     "data": {
      "text/plain": [
       "<AxesSubplot:xlabel='Dependents', ylabel='loan_approved'>"
      ]
     },
     "execution_count": 141,
     "metadata": {},
     "output_type": "execute_result"
    },
    {
     "data": {
      "image/png": "[encoded data removed]",
      "text/plain": [
       "<Figure size 432x288 with 1 Axes>"
      ]
     },
     "metadata": {
      "needs_background": "light"
     },
     "output_type": "display_data"
    }
   ],
   "source": [
    "sns.barplot(df[\"Dependents\"], df[\"loan_approved\"])"
   ]
  },
  {
   "cell_type": "code",
   "execution_count": 184,
   "id": "2b45500f",
   "metadata": {},
   "outputs": [
    {
     "data": {
      "text/plain": [
       "<AxesSubplot:>"
      ]
     },
     "execution_count": 184,
     "metadata": {},
     "output_type": "execute_result"
    },
    {
     "data": {
      "image/png": "[encoded data removed]",
      "text/plain": [
       "<Figure size 432x288 with 2 Axes>"
      ]
     },
     "metadata": {
      "needs_background": "light"
     },
     "output_type": "display_data"
    }
   ],
   "source": [
    "sns.heatmap(df.corr())"
   ]
  },
  {
   "cell_type": "code",
   "execution_count": 149,
   "id": "bbaaea6e",
   "metadata": {},
   "outputs": [
    {
     "data": {
      "text/plain": [
       "Gender              64.705882\n",
       "Married             64.705882\n",
       "Dependents          64.705882\n",
       "Self_Employed       64.705882\n",
       "ApplicantIncome     64.705882\n",
       "LoanAmount          64.705882\n",
       "Loan_Amount_Term    64.705882\n",
       "Credit_History      64.705882\n",
       "Property_Area       64.705882\n",
       "loan_approved       64.705882\n",
       "dtype: float64"
      ]
     },
     "execution_count": 149,
     "metadata": {},
     "output_type": "execute_result"
    }
   ],
   "source": [
    "df[(df['Dependents'] == 3) & (df['loan_approved'])].count() / df[(df['Dependents'] == 3)].count() * 100"
   ]
  },
  {
   "cell_type": "code",
   "execution_count": 153,
   "id": "6428bcfe",
   "metadata": {},
   "outputs": [
    {
     "data": {
      "text/plain": [
       "<AxesSubplot:xlabel='Loan_Amount_Term', ylabel='LoanAmount'>"
      ]
     },
     "execution_count": 153,
     "metadata": {},
     "output_type": "execute_result"
    },
    {
     "data": {
      "image/png": "[encoded data removed]",
      "text/plain": [
       "<Figure size 432x288 with 1 Axes>"
      ]
     },
     "metadata": {
      "needs_background": "light"
     },
     "output_type": "display_data"
    }
   ],
   "source": [
    "sns.barplot(df[\"Loan_Amount_Term\"], df[\"LoanAmount\"], hue=df[\"loan_approved\"])"
   ]
  },
  {
   "cell_type": "code",
   "execution_count": 167,
   "id": "84d214bb",
   "metadata": {},
   "outputs": [
    {
     "data": {
      "text/plain": [
       "69.0"
      ]
     },
     "execution_count": 167,
     "metadata": {},
     "output_type": "execute_result"
    }
   ],
   "source": [
    "df[(df[\"Gender\"] == 1) & (df[\"loan_approved\"] == 1)][\"loan_approved\"].count() / df[(df[\"Gender\"] == 1)].count()[\"loan_approved\"] * 100"
   ]
  },
  {
   "cell_type": "code",
   "execution_count": 170,
   "id": "7fc313f0",
   "metadata": {},
   "outputs": [
    {
     "data": {
      "text/plain": [
       "<AxesSubplot:xlabel='ApplicantIncome', ylabel='Count'>"
      ]
     },
     "execution_count": 170,
     "metadata": {},
     "output_type": "execute_result"
    },
    {
     "data": {
      "image/png": "[encoded data removed]",
      "text/plain": [
       "<Figure size 432x288 with 1 Axes>"
      ]
     },
     "metadata": {
      "needs_background": "light"
     },
     "output_type": "display_data"
    }
   ],
   "source": [
    "sns.histplot(df[\"ApplicantIncome\"])"
   ]
  },
  {
   "cell_type": "markdown",
   "id": "66744516",
   "metadata": {},
   "source": [
    "# Machine Learning Model"
   ]
  },
  {
   "cell_type": "code",
   "execution_count": 78,
   "id": "f2715d2a",
   "metadata": {},
   "outputs": [],
   "source": [
    "# Assigning x and y values then splitting it into training and testing set.\n",
    "X = df.drop(\"loan_approved\", axis=1)\n",
    "y = df[\"loan_approved\"]\n",
    "\n",
    "X_train, X_test, y_train, y_test = train_test_split(X, y, test_size=0.2)"
   ]
  },
  {
   "cell_type": "markdown",
   "id": "4405377c",
   "metadata": {},
   "source": [
    "### Random Forest"
   ]
  },
  {
   "cell_type": "code",
   "execution_count": 79,
   "id": "d56c226c",
   "metadata": {},
   "outputs": [
    {
     "data": {
      "text/plain": [
       "RandomForestClassifier()"
      ]
     },
     "execution_count": 79,
     "metadata": {},
     "output_type": "execute_result"
    }
   ],
   "source": [
    "# Creating and fitting the model.\n",
    "model = RandomForestClassifier()\n",
    "model.fit(X_train, y_train)\n"
   ]
  },
  {
   "cell_type": "code",
   "execution_count": 80,
   "id": "d55602ca",
   "metadata": {},
   "outputs": [
    {
     "name": "stdout",
     "output_type": "stream",
     "text": [
      "              precision    recall  f1-score   support\n",
      "\n",
      "           0       0.85      0.62      0.72        37\n",
      "           1       0.85      0.95      0.90        86\n",
      "\n",
      "    accuracy                           0.85       123\n",
      "   macro avg       0.85      0.79      0.81       123\n",
      "weighted avg       0.85      0.85      0.85       123\n",
      "\n"
     ]
    }
   ],
   "source": [
    "\n",
    "prediction = model.predict(X_test)\n",
    "print(classification_report(y_test, prediction))\n",
    "\n"
   ]
  },
  {
   "cell_type": "markdown",
   "id": "97e65894",
   "metadata": {},
   "source": [
    "### Logistic Regression"
   ]
  },
  {
   "cell_type": "code",
   "execution_count": 86,
   "id": "1a854832",
   "metadata": {},
   "outputs": [
    {
     "name": "stdout",
     "output_type": "stream",
     "text": [
      "              precision    recall  f1-score   support\n",
      "\n",
      "           0       1.00      0.49      0.65        37\n",
      "           1       0.82      1.00      0.90        86\n",
      "\n",
      "    accuracy                           0.85       123\n",
      "   macro avg       0.91      0.74      0.78       123\n",
      "weighted avg       0.87      0.85      0.83       123\n",
      "\n"
     ]
    }
   ],
   "source": [
    "model = LogisticRegression()\n",
    "model.fit(X_train,y_train)\n",
    "preds2= model.predict(X_test)\n",
    "print(classification_report(y_test, preds2))"
   ]
  },
  {
   "cell_type": "code",
   "execution_count": 91,
   "id": "b5bdca36",
   "metadata": {},
   "outputs": [],
   "source": [
    "param = {\"penalty\": [\"l1\", \"l2\", \"elasticnet\", 'none'], \"C\": [0.1, 1, 10, 100],\n",
    "             \"solver\": [\"newton-cg\", \"lbfgs\", \"liblinear\", \"sag\", \"saga\"], \n",
    "            \"multi_class\": [\"auto\", \"ovr\", \"multinomial\"]}\n",
    "grid = GridSearchCV(LogisticRegression(), new_param, verbose=1)"
   ]
  },
  {
   "cell_type": "code",
   "execution_count": 88,
   "id": "cadd9d5d",
   "metadata": {},
   "outputs": [
    {
     "name": "stdout",
     "output_type": "stream",
     "text": [
      "Fitting 5 folds for each of 240 candidates, totalling 1200 fits\n"
     ]
    },
    {
     "data": {
      "text/plain": [
       "GridSearchCV(estimator=LogisticRegression(),\n",
       "             param_grid={'C': [0.1, 1, 10, 100],\n",
       "                         'multi_class': ['auto', 'ovr', 'multinomial'],\n",
       "                         'penalty': ['l1', 'l2', 'elasticnet', 'none'],\n",
       "                         'solver': ['newton-cg', 'lbfgs', 'liblinear', 'sag',\n",
       "                                    'saga']},\n",
       "             verbose=1)"
      ]
     },
     "execution_count": 88,
     "metadata": {},
     "output_type": "execute_result"
    }
   ],
   "source": [
    "grid.fit(X_train, y_train)"
   ]
  },
  {
   "cell_type": "code",
   "execution_count": 89,
   "id": "1bfd9301",
   "metadata": {},
   "outputs": [
    {
     "data": {
      "text/plain": [
       "LogisticRegression(C=0.1, solver='liblinear')"
      ]
     },
     "execution_count": 89,
     "metadata": {},
     "output_type": "execute_result"
    }
   ],
   "source": [
    "grid.best_estimator_"
   ]
  },
  {
   "cell_type": "code",
   "execution_count": 172,
   "id": "98d06495",
   "metadata": {},
   "outputs": [
    {
     "name": "stdout",
     "output_type": "stream",
     "text": [
      "[[18 19]\n",
      " [ 0 86]]               precision    recall  f1-score   support\n",
      "\n",
      "           0       1.00      0.49      0.65        37\n",
      "           1       0.82      1.00      0.90        86\n",
      "\n",
      "    accuracy                           0.85       123\n",
      "   macro avg       0.91      0.74      0.78       123\n",
      "weighted avg       0.87      0.85      0.83       123\n",
      "\n"
     ]
    }
   ],
   "source": [
    "preds = grid2.predict(X_test)\n",
    "print(confusion_matrix(y_test, preds2), classification_report(y_test, preds2))"
   ]
  },
  {
   "cell_type": "markdown",
   "id": "e0222e68",
   "metadata": {},
   "source": [
    "# Our Logistic Regression Model was able to predict with 85% Accuracy"
   ]
  },
  {
   "cell_type": "markdown",
   "id": "5c0f6f86",
   "metadata": {},
   "source": [
    "## Insights: \n",
    "  "
   ]
  },
  {
   "cell_type": "markdown",
   "id": "5818fdc0",
   "metadata": {},
   "source": [
    "####  1. Self Employed People are more likely to be approved of loan. Possibly because of less chances of losing a job."
   ]
  },
  {
   "cell_type": "markdown",
   "id": "d2f920ce",
   "metadata": {},
   "source": [
    "#### 2. The people having a Credit History have a higher chance of being approved for a loan."
   ]
  },
  {
   "cell_type": "markdown",
   "id": "dd53c9e4",
   "metadata": {},
   "source": [
    "#### 3. Most of high amount loans also have a higher loan term."
   ]
  },
  {
   "cell_type": "markdown",
   "id": "8fed060f",
   "metadata": {},
   "source": [
    "#### 4. Dependents is a very good criteria in approving a loan. There is 64 %chance a loan will be approved if the applicant has 3 or more than      3 dependents.\n"
   ]
  },
  {
   "cell_type": "markdown",
   "id": "f1036c49",
   "metadata": {},
   "source": [
    "#### 5.High term loans are more likely to be approved."
   ]
  },
  {
   "cell_type": "code",
   "execution_count": null,
   "id": "fd8646db",
   "metadata": {},
   "outputs": [],
   "source": []
  }
 ],
 "metadata": {
  "kernelspec": {
   "display_name": "Python 3 (ipykernel)",
   "language": "python",
   "name": "python3"
  },
  "language_info": {
   "codemirror_mode": {
    "name": "ipython",
    "version": 3
   },
   "file_extension": ".py",
   "mimetype": "text/x-python",
   "name": "python",
   "nbconvert_exporter": "python",
   "pygments_lexer": "ipython3",
   "version": "3.8.5"
  }
 },
 "nbformat": 4,
 "nbformat_minor": 5
}
